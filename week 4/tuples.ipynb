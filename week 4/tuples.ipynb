{
 "cells": [
  {
   "attachments": {},
   "cell_type": "markdown",
   "metadata": {},
   "source": [
    "1. Write a function to find the most common elements in a tuple."
   ]
  },
  {
   "cell_type": "code",
   "execution_count": 9,
   "metadata": {},
   "outputs": [],
   "source": [
    "# Time Complexity: O(n^2)\n",
    "# Space Complexity O(1)\n",
    "\n",
    "def most_common_elem(tup):\n",
    "    max_counter = 0\n",
    "    answer = None\n",
    "    for i,item in enumerate(tup):\n",
    "        counter = 1\n",
    "        for j in range(i+1,len(tup)):\n",
    "            elem = tup[j]\n",
    "            if elem == item:\n",
    "                counter+=1\n",
    "        if counter > max_counter:\n",
    "            max_counter = counter\n",
    "            answer = item\n",
    "    return answer\n",
    "\n",
    "\n",
    "assert most_common_elem((1,2,3,4,1,2,3,1,2,1)) == 1\n",
    "assert most_common_elem(()) is None"
   ]
  },
  {
   "cell_type": "code",
   "execution_count": 8,
   "outputs": [],
   "source": [
    "# Time Complexity: O(n)\n",
    "# Space Complexity O(n)\n",
    "\n",
    "from collections import defaultdict\n",
    "\n",
    "def most_common_elem(tup):\n",
    "    counter = defaultdict(int)\n",
    "    max_counter = 0\n",
    "    answer = None\n",
    "    for item in tup:\n",
    "        counter[item]+=1\n",
    "        if counter[item]> max_counter:\n",
    "            max_counter = counter[item]\n",
    "            answer = item\n",
    "    return answer\n",
    "\n",
    "assert most_common_elem((1,2,3,4,1,2,3,1,2,1)) == 1\n",
    "assert most_common_elem(()) is None"
   ],
   "metadata": {
    "collapsed": false
   }
  },
  {
   "cell_type": "code",
   "execution_count": 106,
   "outputs": [],
   "source": [
    "# Time Complexity: O(n)\n",
    "# Space Complexity O(n)\n",
    "\n",
    "from collections import Counter\n",
    "\n",
    "def most_common_elem(tup):\n",
    "    return max(Counter(tup).items(), key = lambda x: x[1])[0] if tup else None\n",
    "\n",
    "assert most_common_elem((1,2,3,4,1,2,3,1,2,1)) == 1\n",
    "assert most_common_elem(()) is None"
   ],
   "metadata": {
    "collapsed": false
   }
  },
  {
   "attachments": {},
   "cell_type": "markdown",
   "metadata": {},
   "source": [
    "2. Write a function to check if a given tuple is a palindrome, meaning the elements are the same in reverse order."
   ]
  },
  {
   "cell_type": "code",
   "execution_count": 37,
   "metadata": {},
   "outputs": [],
   "source": [
    "# Time Complexity: O(n)\n",
    "# Space Complexity O(1)\n",
    "def is_palindrome(tup):\n",
    "    i = 0\n",
    "    j = len(tup)-1\n",
    "    while i < j:\n",
    "        if tup[i] != tup[j]:\n",
    "            return False\n",
    "        i+=1\n",
    "        j-=1\n",
    "    return True\n",
    "\n",
    "assert is_palindrome((1,2,3,2,1)) is True\n",
    "assert is_palindrome((1,2,2,1)) is True\n",
    "assert is_palindrome((1,2,3,4,1)) is False"
   ]
  },
  {
   "attachments": {},
   "cell_type": "markdown",
   "metadata": {},
   "source": [
    "3. Write a function to find the frequency of elements in a tuple, and return a dictionary mapping each element to its frequency."
   ]
  },
  {
   "cell_type": "code",
   "execution_count": 50,
   "metadata": {},
   "outputs": [],
   "source": [
    "# Time Complexity: O(n)\n",
    "# Space Complexity O(n)\n",
    "def frequency_of_elem(tup):\n",
    "    counter = defaultdict(int)\n",
    "    for elem in tup:\n",
    "        counter[elem]+=1\n",
    "    return counter\n",
    "\n",
    "assert frequency_of_elem((1,2,3,4,1,2,3,1,2,1)) == {1: 4, 2: 3, 3: 2, 4: 1}\n",
    "assert frequency_of_elem(()) == {}"
   ]
  },
  {
   "cell_type": "code",
   "execution_count": 111,
   "outputs": [],
   "source": [
    "# Time Complexity: O(n)\n",
    "# Space Complexity O(n)\n",
    "def frequency_of_elem(tup):\n",
    "    return Counter(tup)\n",
    "\n",
    "assert frequency_of_elem((1,2,3,4,1,2,3,1,2,1)) == {1: 4, 2: 3, 3: 2, 4: 1}\n",
    "assert frequency_of_elem(()) == {}"
   ],
   "metadata": {
    "collapsed": false
   }
  },
  {
   "attachments": {},
   "cell_type": "markdown",
   "metadata": {},
   "source": [
    "4. Write a function that takes a tuple as an argument and returns a new tuple with only the even elements from the original tuple."
   ]
  },
  {
   "cell_type": "code",
   "execution_count": 110,
   "metadata": {},
   "outputs": [],
   "source": [
    "# Time Complexity: O(n)\n",
    "# Space Complexity O(n)\n",
    "def even_elements(tup):\n",
    "    return tuple(item for item in tup if item % 2 == 0)\n",
    "\n",
    "assert even_elements((0,1,2,3,4,5,6,7,8,9)) == (0,2,4,6,8)"
   ]
  },
  {
   "cell_type": "code",
   "execution_count": 109,
   "outputs": [],
   "source": [
    "# Time Complexity: O(n)\n",
    "# Space Complexity O(n)\n",
    "def even_elements(tup):\n",
    "    return tuple(filter(lambda x: x%2 == 0,tup))\n",
    "\n",
    "assert even_elements((0,1,2,3,4,5,6,7,8,9)) == (0,2,4,6,8)"
   ],
   "metadata": {
    "collapsed": false
   }
  },
  {
   "attachments": {},
   "cell_type": "markdown",
   "metadata": {},
   "source": [
    "5. Write a function to find all unique elements in a tuple and return them in a new tuple."
   ]
  },
  {
   "cell_type": "code",
   "execution_count": 108,
   "outputs": [],
   "source": [
    "# Time Complexity: O(n)\n",
    "# Space Complexity O(n)\n",
    "def uniq_elements(tup):\n",
    "    return tuple(key for key,value in Counter(tup).items() if value == 1)\n",
    "\n",
    "assert uniq_elements((1,2,2,3,4,4,5,6,6,6)) == (1,3,5)\n",
    "assert uniq_elements((1,1,2,2)) == ()"
   ],
   "metadata": {
    "collapsed": false
   }
  },
  {
   "cell_type": "code",
   "execution_count": 107,
   "outputs": [],
   "source": [
    "# Time Complexity: O(n)\n",
    "# Space Complexity O(n)\n",
    "def uniq_elements(tup):\n",
    "    return tuple(map(lambda x : x[0],filter(lambda x: x[1] == 1,Counter(tup).items())))\n",
    "\n",
    "assert uniq_elements((1,2,2,3,4,4,5,6,6,6)) == (1,3,5)\n",
    "assert uniq_elements((1,1,2,2)) == ()"
   ],
   "metadata": {
    "collapsed": false
   }
  }
 ],
 "metadata": {
  "kernelspec": {
   "display_name": "Python 3",
   "language": "python",
   "name": "python3"
  },
  "language_info": {
   "name": "python",
   "version": "3.10.9 (tags/v3.10.9:1dd9be6, Dec  6 2022, 20:01:21) [MSC v.1934 64 bit (AMD64)]"
  },
  "orig_nbformat": 4,
  "vscode": {
   "interpreter": {
    "hash": "f7a5be651532581cb44625d52e18aa1d390cab54bc6b51099d8c30bea9b68219"
   }
  }
 },
 "nbformat": 4,
 "nbformat_minor": 2
}
