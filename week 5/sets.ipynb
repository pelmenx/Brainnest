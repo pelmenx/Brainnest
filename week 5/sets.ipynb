{
 "cells": [
  {
   "attachments": {},
   "cell_type": "markdown",
   "metadata": {},
   "source": [
    "1. Given two sets A and B, write a function to return the symmetric difference between them as a new set. The symmetric difference is the set of elements that are in either A or B, but not in both."
   ]
  },
  {
   "cell_type": "code",
   "execution_count": 25,
   "metadata": {},
   "outputs": [],
   "source": [
    "def  symmetric_difference(a,b):\n",
    "    c = set()\n",
    "    for item in a:\n",
    "        if item not in b:\n",
    "            c.add(item)\n",
    "    for item in b:\n",
    "        if item not in a:\n",
    "            c.add(item)\n",
    "    return c\n",
    "\n",
    "assert symmetric_difference({1,2,3,4,5},{3,4,5,6,7}) == {1,2,6,7}"
   ]
  },
  {
   "cell_type": "code",
   "execution_count": 24,
   "outputs": [],
   "source": [
    "def  symmetric_difference(a,b):\n",
    "    return a ^ b\n",
    "\n",
    "assert symmetric_difference({1,2,3,4,5},{3,4,5,6,7}) == {1,2,6,7}"
   ],
   "metadata": {
    "collapsed": false
   }
  },
  {
   "attachments": {},
   "cell_type": "markdown",
   "metadata": {},
   "source": [
    "2. Given a list of numbers, write a function to return a set of all prime numbers from the list."
   ]
  },
  {
   "cell_type": "code",
   "execution_count": 23,
   "metadata": {},
   "outputs": [],
   "source": [
    "def is_prime(n):\n",
    "    if n == 1:\n",
    "        return False\n",
    "    if n == 2:\n",
    "        return True\n",
    "    if n % 2 == 0:\n",
    "        return False\n",
    "    for i in range(3,int(n**(1/2))+1,2):\n",
    "        if n % i== 0:\n",
    "            return False\n",
    "    return True\n",
    "\n",
    "def prime_numbers(arr):\n",
    "    return {i for i in arr if is_prime(i)}\n",
    "\n",
    "assert prime_numbers(list(range(100))+list(range(100))) == {2,3,5,7,11,13,17,19,23,29,31,37,41,43,47,53,59,61,67,71,73,79,83,89,97}"
   ]
  },
  {
   "attachments": {},
   "cell_type": "markdown",
   "metadata": {},
   "source": [
    "3. Given a list of words, write a function to return a set of all anagrams in the list."
   ]
  },
  {
   "cell_type": "code",
   "execution_count": 10,
   "metadata": {},
   "outputs": [],
   "source": [
    "#group words by anagrams\n",
    "\n",
    "from collections import defaultdict\n",
    "\n",
    "def anagrams(arr):\n",
    "    anagrams_dict = defaultdict(set)\n",
    "    for word in arr:\n",
    "        anagrams_dict[str(sorted(word))].add(word)\n",
    "    return {tuple(value) for value in anagrams_dict.values() if len(value) > 1}\n",
    "\n",
    "\n",
    "assert anagrams([\"listen\",\"silent\",\"heart\",\"earth\",\"triangle\",\"integral\",\"asd\"]) == {('listen', 'silent'), ('triangle', 'integral'), ('heart', 'earth')}"
   ]
  },
  {
   "cell_type": "code",
   "execution_count": 11,
   "outputs": [],
   "source": [
    "# return words which have anagrams\n",
    "\n",
    "def anagrams(arr):\n",
    "    anagrams_dict = defaultdict(set)\n",
    "    for word in arr:\n",
    "        sorted_word = str(sorted(word))\n",
    "        anagrams_dict[sorted_word].add(word)\n",
    "    answer = set()\n",
    "    for val in anagrams_dict.values():\n",
    "        if len(val) > 1:\n",
    "            answer.update(val)\n",
    "    return answer\n",
    "\n",
    "\n",
    "assert anagrams([\"listen\",\"silent\",\"heart\",\"earth\",\"triangle\",\"integral\",\"asd\"]) == {'listen', 'earth', 'triangle', 'integral', 'silent', 'heart'}\n"
   ],
   "metadata": {
    "collapsed": false
   }
  },
  {
   "attachments": {},
   "cell_type": "markdown",
   "metadata": {},
   "source": [
    "4. Given a list of sets, write a function to return the Cartesian product of all sets in the list."
   ]
  },
  {
   "cell_type": "code",
   "execution_count": 13,
   "metadata": {},
   "outputs": [],
   "source": [
    "def cartesian_product(*args):\n",
    "    if len(args) <= 1:\n",
    "        return None\n",
    "    curr_product = args[0]\n",
    "    for i in range(1,len(args)):\n",
    "        tmp = []\n",
    "        if not args[i]:\n",
    "            return []\n",
    "        for item1 in curr_product:\n",
    "            tmp.extend((item1, item2) if isinstance(item1,int) else (*item1, item2) for item2 in args[i])\n",
    "        curr_product,tmp = tmp,curr_product\n",
    "    return curr_product\n",
    "\n",
    "assert cartesian_product({1,2}) is None\n",
    "assert cartesian_product({1,2},{}) == []\n",
    "assert cartesian_product({1,2},{},{5,6}) == []\n",
    "assert cartesian_product({1,2},{3,4}) == [(1,3),(1,4),(2,3),(2,4)]\n",
    "assert cartesian_product({1,2},{3,4},{5,6}) == [(1, 3, 5), (1, 3, 6), (1, 4, 5), (1, 4, 6), (2, 3, 5), (2, 3, 6), (2, 4, 5), (2, 4, 6)]"
   ]
  },
  {
   "cell_type": "code",
   "execution_count": 14,
   "outputs": [],
   "source": [
    "from functools import reduce\n",
    "\n",
    "\n",
    "def cartesian_product_helper(a,b):\n",
    "    return [(item1, item2) if isinstance(item1,int) else (*item1, item2) for item1 in a for item2 in b]\n",
    "\n",
    "def cartesian_product(*args):\n",
    "    if len(args) <= 1:\n",
    "        return None\n",
    "    return list(reduce(cartesian_product_helper,args)) if all(args) else []\n",
    "\n",
    "\n",
    "assert cartesian_product({1,2}) is None\n",
    "assert cartesian_product({1,2},{}) == []\n",
    "assert cartesian_product({1,2},{},{5,6}) == []\n",
    "assert cartesian_product({1,2},{3,4}) == [(1,3),(1,4),(2,3),(2,4)]\n",
    "assert cartesian_product({1,2},{3,4},{5,6}) == [(1, 3, 5), (1, 3, 6), (1, 4, 5), (1, 4, 6), (2, 3, 5), (2, 3, 6), (2, 4, 5), (2, 4, 6)]"
   ],
   "metadata": {
    "collapsed": false
   }
  },
  {
   "cell_type": "code",
   "execution_count": 15,
   "outputs": [],
   "source": [
    "from itertools import product\n",
    "\n",
    "def cartesian_product(*args):\n",
    "    if len(args) <= 1:\n",
    "        return None\n",
    "    return list(product(*args)) if all(args) else []\n",
    "\n",
    "\n",
    "assert cartesian_product({1,2}) is None\n",
    "assert cartesian_product({1,2},{}) == []\n",
    "assert cartesian_product({1,2},{},{5,6}) == []\n",
    "assert cartesian_product({1,2},{3,4}) == [(1,3),(1,4),(2,3),(2,4)]\n",
    "assert cartesian_product({1,2},{3,4},{5,6}) == [(1, 3, 5), (1, 3, 6), (1, 4, 5), (1, 4, 6), (2, 3, 5), (2, 3, 6), (2, 4, 5), (2, 4, 6)]"
   ],
   "metadata": {
    "collapsed": false
   }
  }
 ],
 "metadata": {
  "kernelspec": {
   "display_name": "Python 3",
   "language": "python",
   "name": "python3"
  },
  "language_info": {
   "name": "python",
   "version": "3.10.9"
  },
  "orig_nbformat": 4,
  "vscode": {
   "interpreter": {
    "hash": "f7a5be651532581cb44625d52e18aa1d390cab54bc6b51099d8c30bea9b68219"
   }
  }
 },
 "nbformat": 4,
 "nbformat_minor": 2
}
