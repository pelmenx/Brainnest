{
 "cells": [
  {
   "attachments": {},
   "cell_type": "markdown",
   "metadata": {},
   "source": [
    "1.  Write a regular expression that matches a date in the format dd/mm/yyyy. For example, the string \"01/01/2021\" should match."
   ]
  },
  {
   "cell_type": "code",
   "execution_count": 2,
   "metadata": {},
   "outputs": [],
   "source": [
    "import re\n",
    "def validate_date(date):\n",
    "    pattern = r\"^\\d\\d\\/\\d\\d\\/\\d\\d\\d\\d$\"\n",
    "    return True if re.fullmatch(pattern, date) else False\n",
    "\n",
    "assert validate_date(\"01/01/2021\") is True\n",
    "assert validate_date(\"01/01/202\") is False"
   ]
  },
  {
   "cell_type": "code",
   "execution_count": 170,
   "outputs": [],
   "source": [
    "# More accurate patter for calendar\n",
    "def validate_date(date):\n",
    "    pattern = r\"^((((3[0-1])|([1-2]\\d)|(0?[1-9]))\\/((10|12|(0?[13578]))))|((30|([1-2]\\d)|(0?[1-9]))\\/((11|(0?[\" \\\n",
    "              \"469]))))|((([1-2]\\d)|(0?[1-9]))\\/0?2))\\/[1-9]\\d*$\"\n",
    "    valid = re.fullmatch(pattern, date)\n",
    "    if not valid:\n",
    "        return False\n",
    "    split_date = valid.group().split(\"/\")\n",
    "    if split_date[1] in (\"2\", \"02\") and split_date[0] == \"29\" and int(split_date[2]) % 4:\n",
    "        return False\n",
    "    return True\n",
    "\n",
    "assert validate_date(\"29/02/2000\") is True\n",
    "assert validate_date(\"29/02/2001\") is False"
   ],
   "metadata": {
    "collapsed": false
   }
  },
  {
   "attachments": {},
   "cell_type": "markdown",
   "metadata": {},
   "source": [
    "2. Write a regular expression that matches a phone number in the format xxx-xxx-xxxx, where x is a digit. For example, the string \"123-456-7890\" should match."
   ]
  },
  {
   "cell_type": "code",
   "execution_count": 171,
   "metadata": {},
   "outputs": [],
   "source": [
    "def validate_phone_number(phone_number):\n",
    "    pattern = r\"^\\d{3}-\\d{3}-\\d{4}$\"\n",
    "    return True if re.fullmatch(pattern, phone_number) else False\n",
    "\n",
    "assert validate_phone_number(\"123-456-7890\") is True\n",
    "assert validate_phone_number(\"1-4-7\") is False"
   ]
  },
  {
   "cell_type": "code",
   "execution_count": 173,
   "outputs": [],
   "source": [
    "# Validation Germany phone number according to https://en.wikipedia.org/wiki/Telephone_numbers_in_Germany\n",
    "# The numbers have a total length of ten or eleven digits without the trunk prefix: numbers starting with 17 or 16 are 10 digits long except 176 and 1609, which are 11 digits long like the numbers starting with 15.\n",
    "\n",
    "def validate_phone_number(phone_number):\n",
    "    pattern = r\"^(\\+49|0)((17([0-5]|[7-9])\\d{7})|(16[1-9]\\d{7})|(160[0-8]\\d{6})|(176\\d{8})|(1609\\d{7})|(15\\d{9}))$\"\n",
    "    return True if re.fullmatch(pattern, phone_number) else False\n",
    "\n",
    "assert validate_phone_number(\"0170123456\") is False\n",
    "assert validate_phone_number(\"01701234567\") is True\n",
    "assert validate_phone_number(\"017012345678\") is False\n",
    "assert validate_phone_number(\"+49170123456\") is False\n",
    "assert validate_phone_number(\"+491701234567\") is True\n",
    "assert validate_phone_number(\"+4917012345678\") is False\n",
    "\n",
    "assert validate_phone_number(\"0179123456\") is False\n",
    "assert validate_phone_number(\"01791234567\") is True\n",
    "assert validate_phone_number(\"017912345678\") is False\n",
    "assert validate_phone_number(\"+49179123456\") is False\n",
    "assert validate_phone_number(\"+491791234567\") is True\n",
    "assert validate_phone_number(\"+4917912345678\") is False\n",
    "\n",
    "assert validate_phone_number(\"0161123456\") is False\n",
    "assert validate_phone_number(\"01611234567\") is True\n",
    "assert validate_phone_number(\"016112345678\") is False\n",
    "assert validate_phone_number(\"+49161123456\") is False\n",
    "assert validate_phone_number(\"+491611234567\") is True\n",
    "assert validate_phone_number(\"+4916112345678\") is False\n",
    "\n",
    "assert validate_phone_number(\"0160012345\") is False\n",
    "assert validate_phone_number(\"01600123456\") is True\n",
    "assert validate_phone_number(\"016001234567\") is False\n",
    "assert validate_phone_number(\"+49160012345\") is False\n",
    "assert validate_phone_number(\"+491600123456\") is True\n",
    "assert validate_phone_number(\"+4916001234567\") is False\n",
    "\n",
    "assert validate_phone_number(\"01761234567\") is False\n",
    "assert validate_phone_number(\"017612345678\") is True\n",
    "assert validate_phone_number(\"0176123456789\") is False\n",
    "assert validate_phone_number(\"+491761234567\") is False\n",
    "assert validate_phone_number(\"+4917612345678\") is True\n",
    "assert validate_phone_number(\"+49176123456789\") is False\n",
    "\n",
    "assert validate_phone_number(\"01609123456\") is False\n",
    "assert validate_phone_number(\"016091234567\") is True\n",
    "assert validate_phone_number(\"0160912345678\") is False\n",
    "assert validate_phone_number(\"+491609123456\") is False\n",
    "assert validate_phone_number(\"+4916091234567\") is True\n",
    "assert validate_phone_number(\"+49160912345678\") is False\n",
    "\n",
    "assert validate_phone_number(\"01512345678\") is False\n",
    "assert validate_phone_number(\"015123456789\") is True\n",
    "assert validate_phone_number(\"0151234567890\") is False\n",
    "assert validate_phone_number(\"+491512345678\") is False\n",
    "assert validate_phone_number(\"+4915123456789\") is True\n",
    "assert validate_phone_number(\"+49151234567890\") is False"
   ],
   "metadata": {
    "collapsed": false
   }
  },
  {
   "attachments": {},
   "cell_type": "markdown",
   "metadata": {},
   "source": [
    "3. Write a regular expression that matches a valid email address. For example, the string \"example@example.com\" should match."
   ]
  },
  {
   "cell_type": "code",
   "execution_count": 174,
   "metadata": {},
   "outputs": [],
   "source": [
    "def valid_email_address(address):\n",
    "    pattern = r\"^[a-z]+@[a-z]+.[a-z]+$\"\n",
    "    return True if re.fullmatch(pattern, address) else False\n",
    "\n",
    "assert valid_email_address(\"example@example.com\") is True\n",
    "assert valid_email_address(\"example@example@example.com\") is False"
   ]
  },
  {
   "cell_type": "code",
   "execution_count": 175,
   "outputs": [],
   "source": [
    "# Validation e-mail address according to https://en.wikipedia.org/wiki/Email_address#Local-part without comments and ip addresses and top-level domain can be numeric\n",
    "def valid_email_address(address):\n",
    "    pattern = r'''^(?=.{1,64}@(.{1,63}\\.)*.{1,63}$)((((\\w|[!#$%&'*+=?^_`{|}~\\-\\/])+\\.?)*(\\w|[!#$%&'*+=?^_`{|}~\\-\\/])+)|(\"(\\w|[(),.:;\\t\\s<>@[\\]!#$%&'*+=?^_`{|}~\\-\\/]|(\\\\\\\\)|(\\\\\"))+\")|((\\w|[!#$%&'*+=?^_`{|}~\\-\\/])+\\.\"(\\w|[(),.:;\\t\\s\\=<>@[\\]!#$%&'*+=?^_`{|}~\\-\\/]|(\\\\\\\\)|(\\\\\"))+\"\\.(\\w|[!#$%&'*+?^_`{|}~\\-\\/])+))@[a-zA-Z0-9]+((\\.|-)[a-zA-Z0-9]+)*$'''\n",
    "    return True if re.fullmatch(pattern, address) else False\n",
    "\n",
    "assert valid_email_address(\"simple@example.com\") is True\n",
    "assert valid_email_address(\"very.common@example.com\") is True\n",
    "assert valid_email_address(\"fully-qualified-domain@example.com\") is True\n",
    "assert valid_email_address(\"x@example.com\") is True\n",
    "assert valid_email_address(\"example-indeed@strange-example.com\") is True\n",
    "assert valid_email_address(\"test/test@test.com\") is True\n",
    "assert valid_email_address(\"admin@mailserver1\") is True\n",
    "assert valid_email_address(\"example@s.example\") is True\n",
    "assert valid_email_address('''\" \"@example.org''') is True\n",
    "assert valid_email_address('''\"very.(),:;<>[]\\\\\".VERY.\\\\\"very@\\\\\\\\ \\\\\"very\\\\\".unusual\"@strange.example.com''') is True\n",
    "assert valid_email_address(\"user-@example.org\") is True\n",
    "\n",
    "assert valid_email_address(\"Abc.example.com\") is False\n",
    "assert valid_email_address(\"A@b@c@example.com\") is False\n",
    "assert valid_email_address('''a\"b(c)d,e:f;g<h>i[j\\k]l@example.com''') is False\n",
    "assert valid_email_address('''just\"not\"right@example.com''') is False\n",
    "assert valid_email_address('''this is\"not\\\\allowed@example.com''') is False\n",
    "assert valid_email_address('''this\\ still\\\\\"not\\\\\\\\allowed@example.com''') is False\n",
    "assert valid_email_address(\"ThisIsSixtyfiveSymbolsLongThatIsNotAllowedInLocalPartOfMailAdress@example.com\") is False\n",
    "assert valid_email_address(\"i_like_underscore@but_its_not_allowed_in_this_part.example.com\") is False"
   ],
   "metadata": {
    "collapsed": false
   }
  },
  {
   "attachments": {},
   "cell_type": "markdown",
   "metadata": {},
   "source": [
    "4. Write a regular expression that matches a string that starts with a word, followed by one or more whitespace characters, followed by another word. For example, the string \"hello world\" should match."
   ]
  },
  {
   "cell_type": "code",
   "execution_count": 4,
   "metadata": {},
   "outputs": [],
   "source": [
    "def match_string(string):\n",
    "    pattern = r\"^[a-zA-z]+\\s+[a-zA-z]+$\"\n",
    "    return True if re.fullmatch(pattern, string) else False\n",
    "\n",
    "\n",
    "assert match_string(\"hello world\") is True\n",
    "assert match_string(\"I am\") is True\n",
    "assert match_string(\"helloworld\") is False\n",
    "assert match_string(\"hello world world\") is False"
   ]
  },
  {
   "attachments": {},
   "cell_type": "markdown",
   "metadata": {},
   "source": [
    "5. Write a regular expression that matches a string that contains a number with exactly two decimal places. For example, the string \"1.23\" should match, but the string \"1.234\" should not match."
   ]
  },
  {
   "cell_type": "code",
   "execution_count": 3,
   "metadata": {},
   "outputs": [],
   "source": [
    "def match_two_decimal_places_float(string):\n",
    "    pattern = r\"^(0|[1-9]\\d*)\\.(0[1-9]|[1-9]\\d)$\"\n",
    "    return True if re.fullmatch(pattern, string) else False\n",
    "\n",
    "assert match_two_decimal_places_float(\"1.23\") is True\n",
    "assert match_two_decimal_places_float(\"34.23\") is True\n",
    "assert match_two_decimal_places_float(\"344.23\") is True\n",
    "assert match_two_decimal_places_float(\"1.2\") is False\n",
    "assert match_two_decimal_places_float(\"1.234\") is False"
   ]
  }
 ],
 "metadata": {
  "kernelspec": {
   "display_name": "Python 3",
   "language": "python",
   "name": "python3"
  },
  "language_info": {
   "name": "python",
   "version": "3.10.9 (tags/v3.10.9:1dd9be6, Dec  6 2022, 20:01:21) [MSC v.1934 64 bit (AMD64)]"
  },
  "orig_nbformat": 4,
  "vscode": {
   "interpreter": {
    "hash": "f7a5be651532581cb44625d52e18aa1d390cab54bc6b51099d8c30bea9b68219"
   }
  }
 },
 "nbformat": 4,
 "nbformat_minor": 2
}
