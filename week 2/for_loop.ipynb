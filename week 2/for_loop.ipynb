{
 "cells": [
  {
   "attachments": {},
   "cell_type": "markdown",
   "metadata": {},
   "source": [
    "1. Create a for loop that iterates through a list of strings and prints each string in uppercase."
   ]
  },
  {
   "cell_type": "code",
   "execution_count": null,
   "metadata": {
    "pycharm": {
     "is_executing": true
    }
   },
   "outputs": [],
   "source": [
    "def print_upper(arr):\n",
    "    for i,item in enumerate(arr):\n",
    "        try:\n",
    "            print(item.upper())\n",
    "        except AttributeError:\n",
    "            print(f\"Item in position {i} is not a string, it is {type(item)}, we skip it\")\n",
    "\n",
    "print_upper([\"qwe\",\"asd\",\"zxc\",1])"
   ]
  },
  {
   "attachments": {},
   "cell_type": "markdown",
   "metadata": {},
   "source": [
    "2. Create a for loop that iterates through a list of numbers and prints the square of each number."
   ]
  },
  {
   "cell_type": "code",
   "execution_count": null,
   "metadata": {
    "pycharm": {
     "is_executing": true
    }
   },
   "outputs": [],
   "source": [
    "def print_squares(arr):\n",
    "    for i,item in enumerate(arr):\n",
    "        try:\n",
    "            print(item**2)\n",
    "        except TypeError:\n",
    "            print(f\"Item in position {i} is not a number, it is {type(item)}, we skip it\")\n",
    "\n",
    "print_squares([-1,0,1,2,\"asd\"])"
   ]
  },
  {
   "attachments": {},
   "cell_type": "markdown",
   "metadata": {},
   "source": [
    "3. Create a for loop that iterates through a list of dictionaries and prints the value of a specified key for each dictionary."
   ]
  },
  {
   "cell_type": "code",
   "execution_count": null,
   "metadata": {
    "pycharm": {
     "is_executing": true
    }
   },
   "outputs": [],
   "source": [
    "def print_key(arr,key):\n",
    "    for i,d in enumerate(arr):\n",
    "        try:\n",
    "            print(d[key])\n",
    "        except KeyError:\n",
    "            print(f\"Dictionary in position {i} don't contain a key - '{key}', we skip it\")\n",
    "        except TypeError:\n",
    "            print(f\"Item in position {i} is not a dictionary, it is {type(d)}, we skip it\")\n",
    "\n",
    "print_key([{\"a\":1},{\"a\":2},{\"a\":3},{\"b\":4},\"asd\",1],\"a\")"
   ]
  },
  {
   "attachments": {},
   "cell_type": "markdown",
   "metadata": {},
   "source": [
    "4. Create a for loop that iterates through a list of numbers and prints the largest number in the list."
   ]
  },
  {
   "cell_type": "code",
   "execution_count": null,
   "metadata": {
    "pycharm": {
     "is_executing": true
    }
   },
   "outputs": [],
   "source": [
    "def print_max_number(arr):\n",
    "    if not arr:\n",
    "        print(\"List is empty\")\n",
    "        return\n",
    "    max_item = float(\"-inf\")\n",
    "    for i,item in enumerate(arr):\n",
    "        try:\n",
    "            if item > max_item:\n",
    "                max_item = item\n",
    "        except TypeError:\n",
    "            print(f\"Item in position {i} is not a number, it is {type(item)}, we skip it\")\n",
    "\n",
    "    if max_item == float(\"-inf\"):\n",
    "        print(\"List don't contain a numbers\")\n",
    "        return\n",
    "    print(max_item)\n",
    "\n",
    "print_max_number([-1,0,1,1.5,2,\"asd\"])"
   ]
  },
  {
   "attachments": {},
   "cell_type": "markdown",
   "metadata": {},
   "source": [
    "5. Create a for loop that iterates through a list of lists and prints the sum of the elements in each sub-list."
   ]
  },
  {
   "cell_type": "code",
   "execution_count": null,
   "metadata": {
    "pycharm": {
     "is_executing": true
    }
   },
   "outputs": [],
   "source": [
    "def sum_of_each_sub_list(arr):\n",
    "    if not arr:\n",
    "        print(\"List is empty\")\n",
    "    #assume sum of empty sub-list is 0\n",
    "    for i,block in enumerate(arr):\n",
    "        if not block:\n",
    "            print(f\"sub-list in position {i} is empty, it's sum will be 0 (by assumption)\")\n",
    "            continue\n",
    "        if not isinstance(block,list) and not isinstance(block,tuple):\n",
    "            print(f\"Item in position {i} is not a list or tuple, it is {type(block)}, we skip it\")\n",
    "            continue\n",
    "        block_sum = 0\n",
    "        for j,item in enumerate(block):\n",
    "            try:\n",
    "                block_sum+=item\n",
    "            except TypeError:\n",
    "                print(f\"sub-list in position {i} contains non-numeric value, we skip it\")\n",
    "                break\n",
    "        else:\n",
    "            print(block_sum)\n",
    "\n",
    "sum_of_each_sub_list([[1],[1,2],(1,2,3),[],[1,\"asd\"],\"asd\",1])"
   ]
  }
 ],
 "metadata": {
  "language_info": {
   "name": "python"
  },
  "orig_nbformat": 4
 },
 "nbformat": 4,
 "nbformat_minor": 2
}
