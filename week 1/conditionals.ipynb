{
 "cells": [
  {
   "attachments": {},
   "cell_type": "markdown",
   "metadata": {},
   "source": [
    "1. Write a program that prompts the user for a string and checks whether the string is a palindrome (i.e., the string reads the same forward and backward)."
   ]
  },
  {
   "cell_type": "code",
   "execution_count": null,
   "metadata": {
    "pycharm": {
     "is_executing": true
    }
   },
   "outputs": [],
   "source": [
    "def is_palindrome(s):\n",
    "    left = 0\n",
    "    right = len(s)-1\n",
    "    while left<right:\n",
    "        if s[left]!=s[right]:\n",
    "            return False\n",
    "        left+=1\n",
    "        right-=1\n",
    "    return True\n",
    "\n",
    "is_palindrome(input(\"write a string: \"))"
   ]
  },
  {
   "attachments": {},
   "cell_type": "markdown",
   "metadata": {},
   "source": [
    "2. Write a program that takes in a list of integers and returns the sum of all even numbers in the list."
   ]
  },
  {
   "cell_type": "code",
   "execution_count": null,
   "metadata": {
    "pycharm": {
     "is_executing": true
    }
   },
   "outputs": [],
   "source": [
    "def sum_of_even(nums):\n",
    "    # sourcery skip: inline-immediately-returned-variable, sum-comprehension\n",
    "    answer = 0\n",
    "    for item in nums:\n",
    "        if item % 2 == 0:\n",
    "            answer+=item\n",
    "    return answer\n",
    "\n",
    "sum_of_even([1,2,3,4,5,6])"
   ]
  },
  {
   "attachments": {},
   "cell_type": "markdown",
   "metadata": {},
   "source": [
    "3. Write a program that prompts the user for their age and checks whether they are old enough to vote (i.e., 18 years old or older)."
   ]
  },
  {
   "cell_type": "code",
   "execution_count": null,
   "metadata": {
    "pycharm": {
     "is_executing": true
    }
   },
   "outputs": [],
   "source": [
    "age = input(\"How old are you?: \")\n",
    "while not age.isdigit():\n",
    "    print(\"string can contain digits only and must be non-negative\")\n",
    "    age = input(\"How old are you?: \")\n",
    "\n",
    "if int(age)< 18:\n",
    "    print(\"You can't vote!\")\n",
    "else:\n",
    "    print(\"You can vote!\")"
   ]
  },
  {
   "attachments": {},
   "cell_type": "markdown",
   "metadata": {},
   "source": [
    "4. Write a program that takes in a list of integers and returns the largest number in the list that is also divisible by 3."
   ]
  },
  {
   "cell_type": "code",
   "execution_count": null,
   "metadata": {
    "pycharm": {
     "is_executing": true
    }
   },
   "outputs": [],
   "source": [
    "def find_max_item_div_by_3(nums):\n",
    "    if not nums:\n",
    "        print(\"list is empty\")\n",
    "        return None\n",
    "    max_item_div_by_3 = float('-inf')\n",
    "    for item in nums:\n",
    "        if item % 3 == 0:\n",
    "            max_item_div_by_3 = max(max_item_div_by_3,item)\n",
    "    return max_item_div_by_3\n",
    "find_max_item_div_by_3([-3,0,1,6,12,17,-15])"
   ]
  },
  {
   "attachments": {},
   "cell_type": "markdown",
   "metadata": {},
   "source": [
    "5. Write a program that prompts the user for a number and checks whether the number is a prime number (i.e., only divisible by 1 and itself)."
   ]
  },
  {
   "cell_type": "code",
   "execution_count": null,
   "metadata": {
    "pycharm": {
     "is_executing": true
    }
   },
   "outputs": [],
   "source": [
    "def is_prime(n):\n",
    "    # sourcery skip: assign-if-exp, invert-any-all, reintroduce-else, use-any\n",
    "    if n == 1:\n",
    "        return False\n",
    "    for i in range(2,n//2+1):\n",
    "        if n % i == 0:\n",
    "            return False\n",
    "    return True\n",
    "\n",
    "num = input(\"Write a num?: \")\n",
    "while not num.isdigit() or int(num) == 0:\n",
    "    print(\"string can contain digits only and must be positive\")\n",
    "    num = input(\"Write a num?: \")\n",
    "\n",
    "is_prime(int(num))"
   ]
  }
 ],
 "metadata": {
  "kernelspec": {
   "display_name": "Python 3",
   "language": "python",
   "name": "python3"
  },
  "language_info": {
   "name": "python",
   "version": "3.10.10"
  },
  "orig_nbformat": 4,
  "vscode": {
   "interpreter": {
    "hash": "f7a5be651532581cb44625d52e18aa1d390cab54bc6b51099d8c30bea9b68219"
   }
  }
 },
 "nbformat": 4,
 "nbformat_minor": 2
}
