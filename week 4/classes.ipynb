{
 "cells": [
  {
   "attachments": {},
   "cell_type": "markdown",
   "metadata": {},
   "source": [
    "1. Create a class called Rectangle that has attributes width and height. Add methods area and perimeter that calculate the area and perimeter of the rectangle, respectively."
   ]
  },
  {
   "cell_type": "code",
   "execution_count": 3,
   "metadata": {},
   "outputs": [],
   "source": [
    "class Rectangle:\n",
    "    def __init__(self,width,height):\n",
    "        self.width = width\n",
    "        self.height = height\n",
    "\n",
    "    def area(self):\n",
    "        return self.width*self.height\n",
    "\n",
    "    def perimeter(self):\n",
    "        return self.height*2+self.width*2\n",
    "\n",
    "rectangle = Rectangle(4,5)\n",
    "assert rectangle.area() == 20\n",
    "assert rectangle.perimeter() == 18"
   ]
  },
  {
   "attachments": {},
   "cell_type": "markdown",
   "metadata": {},
   "source": [
    "2. Create a class called Circle that has attribute radius. Add methods area and circumference that calculate the area and circumference of the circle, respectively."
   ]
  },
  {
   "cell_type": "code",
   "execution_count": 12,
   "metadata": {},
   "outputs": [],
   "source": [
    "from math import pi\n",
    "\n",
    "class Circle:\n",
    "    def __init__(self,radius):\n",
    "        self.radius = radius\n",
    "\n",
    "    def area(self):\n",
    "        return pi*self.radius**2\n",
    "\n",
    "    def circumference(self):\n",
    "        return pi*2*self.radius\n",
    "\n",
    "circle = Circle(3)\n",
    "assert circle.area() == pi*9\n",
    "assert circle.circumference() == pi*6\n"
   ]
  },
  {
   "attachments": {},
   "cell_type": "markdown",
   "metadata": {},
   "source": [
    "3. Create a class called Car that has attributes make, model, and year. Add methods start and stop that simulate starting and stopping the car, respectively."
   ]
  },
  {
   "cell_type": "code",
   "execution_count": null,
   "metadata": {
    "pycharm": {
     "is_executing": true
    }
   },
   "outputs": [],
   "source": [
    "class Car:\n",
    "    def __init__(self,make,model,year):\n",
    "        self.make = make\n",
    "        self.model = model\n",
    "        self.year = year\n",
    "        self.started = False\n",
    "\n",
    "    def start(self):\n",
    "        if self.started:\n",
    "            print(\"engine is already started\")\n",
    "            return\n",
    "        self.started = True\n",
    "        print(\"engine is started\")\n",
    "\n",
    "    def stop(self):\n",
    "        if not self.started:\n",
    "            print(\"engine is already stopped\")\n",
    "            return\n",
    "        self.started = False\n",
    "        print(\"engine is stopped\")\n",
    "\n",
    "car = Car(\"Mini\",\"Cooper\",2022)\n",
    "car.stop()\n",
    "car.start()\n",
    "car.start()\n",
    "car.stop()\n"
   ]
  },
  {
   "attachments": {},
   "cell_type": "markdown",
   "metadata": {},
   "source": [
    "4. Create a class called Dice that has attribute sides (the number of sides on the dice). Add a method roll that generates a random number between 1 and the number of sides on the dice."
   ]
  },
  {
   "cell_type": "code",
   "execution_count": null,
   "metadata": {
    "pycharm": {
     "is_executing": true
    }
   },
   "outputs": [],
   "source": [
    "from random import randint\n",
    "\n",
    "class Dice:\n",
    "    def __init__(self,sides):\n",
    "        self.sides = sides\n",
    "\n",
    "    def roll(self):\n",
    "        return randint(1,self.sides)\n",
    "\n",
    "d6 = Dice(6)\n",
    "print(d6.roll())\n",
    "print(d6.roll())\n",
    "print(d6.roll())\n",
    "d20 = Dice(20)\n",
    "print(d20.roll())\n",
    "print(d20.roll())\n",
    "print(d20.roll())"
   ]
  },
  {
   "attachments": {},
   "cell_type": "markdown",
   "metadata": {},
   "source": [
    "5. Create a class called Temperature that has attribute celsius (a temperature in degrees Celsius). Add methods to_fahrenheit and to_kelvin that convert the temperature to degrees Fahrenheit and Kelvin, respectively."
   ]
  },
  {
   "cell_type": "code",
   "execution_count": 32,
   "metadata": {},
   "outputs": [],
   "source": [
    "class Temperature:\n",
    "    def __init__(self,celsius):\n",
    "        self.celsius = celsius\n",
    "\n",
    "    def to_fahrenheit(self):\n",
    "        return self.celsius*1.8 + 32\n",
    "\n",
    "    def to_kelvin(self):\n",
    "        return self.celsius + 273.15\n",
    "\n",
    "temperature = Temperature(10)\n",
    "assert temperature.to_fahrenheit() == 50\n",
    "assert temperature.to_kelvin() == 283.15"
   ]
  },
  {
   "attachments": {},
   "cell_type": "markdown",
   "metadata": {},
   "source": [
    "6. Create a class called Book that has attributes title, author, and publication_year. Add a method get_age that calculates how many years ago the book was published."
   ]
  },
  {
   "cell_type": "code",
   "execution_count": 36,
   "metadata": {},
   "outputs": [],
   "source": [
    "from datetime import datetime\n",
    "class Book:\n",
    "    def __init__(self,title,author,year):\n",
    "        self.title = title\n",
    "        self.author = author\n",
    "        self.year = year\n",
    "\n",
    "    def get_age(self):\n",
    "        return datetime.now().year - self.year\n",
    "\n",
    "book = Book(\"The Da Vinci Code\",\"Dan Brown\", 2003)\n",
    "assert book.get_age() == 20"
   ]
  },
  {
   "attachments": {},
   "cell_type": "markdown",
   "metadata": {},
   "source": [
    "7. Create a class called Rectangle that has attributes width and height. Add methods __str__ and __repr__ that return a string representation of the rectangle object."
   ]
  },
  {
   "cell_type": "code",
   "execution_count": 2,
   "metadata": {},
   "outputs": [
    {
     "name": "stdout",
     "output_type": "stream",
     "text": [
      "This is a rectangle with width 4 and height 5\n",
      "This is a rectangle with width 5 and height 6\n"
     ]
    }
   ],
   "source": [
    "class Rectangle:\n",
    "    def __init__(self,width,height):\n",
    "        self.width = width\n",
    "        self.height = height\n",
    "\n",
    "    def __str__(self):\n",
    "        return f\"This is a rectangle with width {self.width} and height {self.height}\"\n",
    "\n",
    "    def __repr__(self):\n",
    "        return f\"Rectangle({self.width},{self.height})\"\n",
    "\n",
    "rectangle1 = Rectangle(4,5)\n",
    "print(rectangle1)\n",
    "def create_class_instance(s):\n",
    "    def str_to_class():\n",
    "        import sys\n",
    "        return getattr(sys.modules[__name__], classname)(*attributes)\n",
    "    classname, attributes = s.split(\"(\")\n",
    "    attributes = attributes[:-1].split(\",\")\n",
    "    attributes = [int(at)+1 for at in attributes]\n",
    "    return str_to_class()\n",
    "\n",
    "rectangle2 = create_class_instance(rectangle1.__repr__())\n",
    "print(rectangle2)"
   ]
  }
 ],
 "metadata": {
  "language_info": {
   "name": "python"
  },
  "orig_nbformat": 4
 },
 "nbformat": 4,
 "nbformat_minor": 2
}
