{
 "cells": [
  {
   "attachments": {},
   "cell_type": "markdown",
   "metadata": {},
   "source": [
    "1. Write a function that takes a list of integers as an argument, and returns the sum of the integers. Use a try-except block to catch any ValueError exceptions that may be raised when attempting to convert a string to an integer."
   ]
  },
  {
   "cell_type": "code",
   "execution_count": null,
   "metadata": {
    "pycharm": {
     "is_executing": true
    }
   },
   "outputs": [],
   "source": [
    "def validate_length(s):\n",
    "    try:\n",
    "        length_array = int(s)\n",
    "        if length_array < 0:\n",
    "            raise ValueError\n",
    "    except ValueError:\n",
    "        print(\"string must contain non-negative integer\")\n",
    "        length_array = input(\"Write a length of array: \")\n",
    "        return validate_length(length_array)\n",
    "    else:\n",
    "        return length_array\n",
    "\n",
    "def validate_num(s):\n",
    "    try:\n",
    "        value = int(s)\n",
    "    except ValueError:\n",
    "        print(\"string must contain integer\")\n",
    "        value = input(\"Write a number: \")\n",
    "        return validate_num(value)\n",
    "    else:\n",
    "        return value\n",
    "\n",
    "def list_sum(arr):\n",
    "    return sum(arr)\n",
    "\n",
    "length = validate_length(input(\"Write a length of array\"))\n",
    "i = 0\n",
    "nums = []\n",
    "while i<length:\n",
    "    num = validate_num(input(\"Write a number: \"))\n",
    "    nums.append(num)\n",
    "    i+=1\n",
    "list_sum(nums)"
   ]
  },
  {
   "attachments": {},
   "cell_type": "markdown",
   "metadata": {},
   "source": [
    "2. Write a function that takes a filename as an argument, and attempts to open the file. Use a try-except block to catch any FileNotFoundError exceptions that may be raised when attempting to open the file. If the file is successfully opened, the function should return the contents of the file."
   ]
  },
  {
   "cell_type": "code",
   "execution_count": null,
   "metadata": {
    "pycharm": {
     "is_executing": true
    }
   },
   "outputs": [],
   "source": [
    "def validate_file_name(name):\n",
    "    try:\n",
    "        file = open(name, \"r\")\n",
    "    except FileNotFoundError:\n",
    "        print(\"file not found\")\n",
    "        file = input(\"write the file name with extension: \")\n",
    "        return validate_file_name(file)\n",
    "    else:\n",
    "        file.close()\n",
    "        return name\n",
    "\n",
    "\n",
    "file_name = validate_file_name(input(\"write the file name with extension: \"))\n",
    "with open(file_name, \"r\") as f:\n",
    "    content = f.read()\n",
    "    print(content)"
   ]
  },
  {
   "attachments": {},
   "cell_type": "markdown",
   "metadata": {},
   "source": [
    "3. Write a function that takes a list of strings as an argument, and returns a new list containing only the strings that can be successfully converted to a float. Use a try-except block to catch any ValueError exceptions that may be raised when attempting to convert a string to a float."
   ]
  },
  {
   "cell_type": "code",
   "execution_count": null,
   "metadata": {
    "pycharm": {
     "is_executing": true
    }
   },
   "outputs": [],
   "source": [
    "def filter_arr(array):  # sourcery skip: use-contextlib-suppress\n",
    "    a = []\n",
    "    for item in array:\n",
    "        try:\n",
    "            float(item)\n",
    "        except ValueError:\n",
    "            pass\n",
    "        else:\n",
    "            a.append(item)\n",
    "    return a\n",
    "arr = [\"asd\",\"10\",\"10.2\"]\n",
    "filter_arr(arr)"
   ]
  },
  {
   "attachments": {},
   "cell_type": "markdown",
   "metadata": {},
   "source": [
    "4. Write a function that takes a list of dictionaries as an argument, and returns the value of a specified key from each dictionary. Use a try-except block to catch any KeyError exceptions that may be raised when attempting to access a key that does not exist in a dictionary."
   ]
  },
  {
   "cell_type": "code",
   "execution_count": null,
   "metadata": {
    "pycharm": {
     "is_executing": true
    }
   },
   "outputs": [],
   "source": [
    "def key_value(arr, key):  # sourcery skip: use-contextlib-suppress\n",
    "    answer = []\n",
    "    for d in arr:\n",
    "        try:\n",
    "            answer.append(d[key])\n",
    "        except KeyError:\n",
    "            pass\n",
    "    return answer\n",
    "dictionaries = [{\"a\":1},{\"a\":2},{\"b\":3},{\"a\":4},]\n",
    "key_value(dictionaries, \"a\")"
   ]
  },
  {
   "attachments": {},
   "cell_type": "markdown",
   "metadata": {},
   "source": [
    "5. Write a function that takes a list of integers as an argument, and returns the largest integer in the list. Use a try-except block to catch any ValueError exceptions that may be raised when attempting to compare elements that are not integers."
   ]
  },
  {
   "cell_type": "code",
   "execution_count": null,
   "metadata": {
    "pycharm": {
     "is_executing": true
    }
   },
   "outputs": [],
   "source": [
    "def validate_length(s):\n",
    "    try:\n",
    "        length_array = int(s)\n",
    "        if length_array < 0:\n",
    "            raise ValueError\n",
    "    except ValueError:\n",
    "        print(\"string must contain non-negative integer\")\n",
    "        length_array = input(\"Write a length of array: \")\n",
    "        return validate_length(length_array)\n",
    "    else:\n",
    "        return length_array\n",
    "\n",
    "def validate_num(s):\n",
    "    try:\n",
    "        value = int(s)\n",
    "    except ValueError:\n",
    "        print(\"string must contain integer\")\n",
    "        value = input(\"Write a number: \")\n",
    "        return validate_num(value)\n",
    "    else:\n",
    "        return value\n",
    "\n",
    "def max_item_in_list(arr):\n",
    "    return max(arr)\n",
    "\n",
    "length = validate_length(input(\"Write a length of array\"))\n",
    "i = 0\n",
    "nums = []\n",
    "while i<length:\n",
    "    num = validate_num(input(\"Write a number: \"))\n",
    "    nums.append(num)\n",
    "    i+=1\n",
    "max_item_in_list(nums)"
   ]
  }
 ],
 "metadata": {
  "kernelspec": {
   "display_name": "Python 3",
   "language": "python",
   "name": "python3"
  },
  "language_info": {
   "name": "python",
   "version": "3.10.9"
  },
  "orig_nbformat": 4,
  "vscode": {
   "interpreter": {
    "hash": "f7a5be651532581cb44625d52e18aa1d390cab54bc6b51099d8c30bea9b68219"
   }
  }
 },
 "nbformat": 4,
 "nbformat_minor": 2
}
