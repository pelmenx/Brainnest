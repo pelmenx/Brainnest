{
 "cells": [
  {
   "attachments": {},
   "cell_type": "markdown",
   "metadata": {},
   "source": [
    "    1. Write a Python program that reads a text file and prints the number of lines,\n",
    "    words, and characters in the file.\n"
   ]
  },
  {
   "cell_type": "code",
   "execution_count": 117,
   "metadata": {},
   "outputs": [],
   "source": [
    "# 1.txt\n",
    "# qwe asd          # 2 words, 8 chars\n",
    "# qwe              # 1 word,  4 char\n",
    "#                  # 0 words, 1 char\n",
    "# asd zxc dfg      # 3 words, 10 char\n",
    "\n",
    "import re\n",
    "def handle_file1(file):\n",
    "    with open(file,\"r\") as f:\n",
    "        lines = f.readlines()\n",
    "        number_of_lines = len(lines)\n",
    "        number_of_character = sum(len(line) for line in lines) # including new line character\n",
    "        number_of_words = sum(len(re.findall(r\"[a-zA-Z]+\", line)) for line in lines)\n",
    "        return {\"number of lines\": number_of_lines,\n",
    "                \"number of words\": number_of_words,\n",
    "                \"number of character\": number_of_character}\n",
    "\n",
    "assert handle_file1(\"1.txt\") == {'number of lines': 4, 'number of words': 6, 'number of character': 24}"
   ]
  },
  {
   "attachments": {},
   "cell_type": "markdown",
   "metadata": {},
   "source": [
    "    2. Write a Python program that reads a CSV file and converts it into a dictionary.\n",
    "    Each row of the CSV file should be a key-value pair in the dictionary."
   ]
  },
  {
   "cell_type": "code",
   "execution_count": 11,
   "metadata": {},
   "outputs": [],
   "source": [
    "# 2.csv\n",
    "# 10;11;12;13;14\n",
    "# 20;21;22;23;24\n",
    "# 30;31;32;33;34\n",
    "# 40;41;42;43;44\n",
    "# 50;51;52;53;54\n",
    "def handle_file2(file):\n",
    "    with open(file,\"r\") as f:\n",
    "        lines = f.readlines()\n",
    "        dictionary_representation = {}\n",
    "        for i,line in enumerate(lines):\n",
    "            dictionary_representation[i] = {}\n",
    "            for j,value in enumerate(line.strip().split(\";\")):\n",
    "                dictionary_representation[i][j] = value\n",
    "        return dictionary_representation\n",
    "\n",
    "assert handle_file2(\"2.csv\") == {0: {0: '10', 1: '11', 2: '12', 3: '13', 4: '14'},\n",
    "                                 1: {0: '20', 1: '21', 2: '22', 3: '23', 4: '24'},\n",
    "                                 2: {0: '30', 1: '31', 2: '32', 3: '33', 4: '34'},\n",
    "                                 3: {0: '40', 1: '41', 2: '42', 3: '43', 4: '44'},\n",
    "                                 4: {0: '50', 1: '51', 2: '52', 3: '53', 4: '54'}}"
   ]
  },
  {
   "attachments": {},
   "cell_type": "markdown",
   "metadata": {},
   "source": [
    "    3. Write a Python program that reads a binary file and converts it into a hexadecimal string.\n",
    "    The program should output the hexadecimal string to a text file."
   ]
  },
  {
   "cell_type": "code",
   "execution_count": 1,
   "metadata": {},
   "outputs": [],
   "source": [
    "# plaintext             - This is a binary file\n",
    "# binary representation - 01010100 01101000 01101001 01110011 00100000 01101001 01110011 00100000 01100001 00100000 01100010 01101001 01101110 01100001 01110010 01111001 00100000 01100110 01101001 01101100 01100101\n",
    "# hex representation    - 54 68 69 73 20 69 73 20 61 20 62 69 6E 61 72 79 20 66 69 6C 65\n",
    "import binascii\n",
    "\n",
    "def handle_file3(input_file, output_file):\n",
    "    with open(input_file,\"br\") as f:\n",
    "        file_in_hex = binascii.hexlify(f.read())\n",
    "    with open(output_file,\"bw\") as f:\n",
    "        f.write(file_in_hex)\n",
    "\n",
    "handle_file3(\"3_input.txt\",\"3_output.txt\")"
   ]
  },
  {
   "attachments": {},
   "cell_type": "markdown",
   "metadata": {},
   "source": [
    "    4. Write a Python program that reads a text file containing numbers and calculates the sum\n",
    "    of all the numbers in the file."
   ]
  },
  {
   "cell_type": "code",
   "execution_count": 118,
   "metadata": {},
   "outputs": [],
   "source": [
    "#4.txt\n",
    "# 1                    # 1     1\n",
    "# 2 3                  # 5     6\n",
    "# 4 5 6                # 15    21\n",
    "# 7 8 9                # 24    45\n",
    "#                      # 0     45\n",
    "# 10                   # 10    55\n",
    "# 11 12 13             # 36    91\n",
    "# 14    15             # 29    120\n",
    "# 14.45 15.55 10.0     # 30    160\n",
    "#                      # 0     160\n",
    "# 20.5                 # 20.5  180.5\n",
    "\n",
    "def str_to_int(s):\n",
    "    try:\n",
    "        return float(s)\n",
    "    except ValueError:\n",
    "        return int(s)\n",
    "\n",
    "def handle_file4(file):\n",
    "    with open(file,\"r\") as f:\n",
    "        lines = f.readlines()\n",
    "        answer = 0\n",
    "        for line in lines:\n",
    "            answer+=sum(list(map(str_to_int,re.findall(r\"[(\\d+\\.\\d+)|\\d+]+\", line))))\n",
    "        return answer\n",
    "\n",
    "assert handle_file4(\"4.txt\") == 180.5"
   ]
  },
  {
   "attachments": {},
   "cell_type": "markdown",
   "metadata": {},
   "source": [
    "    5. Write a Python program that reads a text file and removes all the blank lines.\n",
    "    The modified text should be written back to the file."
   ]
  },
  {
   "cell_type": "code",
   "execution_count": 1,
   "outputs": [],
   "source": [
    "# 5.txt\n",
    "# first\n",
    "#\n",
    "# second\n",
    "#\n",
    "#\n",
    "# third\n",
    "#\n",
    "#\n",
    "\n",
    "def handle_file5(file):\n",
    "    def backup(write,read):\n",
    "        with open(read,\"r\") as read_file:\n",
    "            read_content = read_file.readlines()\n",
    "        with open(write,\"w\") as write_file:\n",
    "            for content in read_content:\n",
    "                write_file.write(content)\n",
    "\n",
    "    backup(file, f\"{file}.backup\")\n",
    "    with open(file,\"r\") as f:\n",
    "        lines = f.readlines()\n",
    "        new_content = [line for line in lines if len(line) != (line.count(\" \")+\n",
    "                                                               line.count(\"\\t\")+\n",
    "                                                               line.count(\"\\n\"))]\n",
    "\n",
    "    with open(file,\"w\") as f:\n",
    "        for new_line in new_content:\n",
    "            f.write(new_line)\n",
    "\n",
    "    with open(file,\"r\") as f:\n",
    "        return ''.join(f.readlines())\n",
    "\n",
    "\n",
    "assert handle_file5(\"5.txt\") == 'first\\nsecond\\nthird\\n'"
   ],
   "metadata": {
    "collapsed": false
   }
  }
 ],
 "metadata": {
  "language_info": {
   "name": "python"
  },
  "orig_nbformat": 4
 },
 "nbformat": 4,
 "nbformat_minor": 2
}
