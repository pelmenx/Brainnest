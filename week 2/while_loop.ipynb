{
 "cells": [
  {
   "attachments": {},
   "cell_type": "markdown",
   "metadata": {},
   "source": [
    "1. Create a while loop that repeatedly takes user input and adds the input to a list until the user enters \"done\"."
   ]
  },
  {
   "cell_type": "code",
   "execution_count": null,
   "metadata": {
    "vscode": {
     "languageId": "plaintext"
    },
    "pycharm": {
     "is_executing": true
    }
   },
   "outputs": [],
   "source": [
    "arr = []\n",
    "while True:\n",
    "    val = input(\"Write smth. or 'done' for exit: \")\n",
    "    if val == \"done\":\n",
    "        break\n",
    "    arr.append(val)\n",
    "print(arr)"
   ]
  },
  {
   "attachments": {},
   "cell_type": "markdown",
   "metadata": {},
   "source": [
    "2. Create a while loop that generates random numbers and adds them to a list until the sum of all numbers in the list is greater than 100."
   ]
  },
  {
   "cell_type": "code",
   "execution_count": null,
   "metadata": {
    "vscode": {
     "languageId": "plaintext"
    },
    "pycharm": {
     "is_executing": true
    }
   },
   "outputs": [],
   "source": [
    "from random import randint\n",
    "\n",
    "arr = []\n",
    "arr_sum = 0\n",
    "while arr_sum <= 100:\n",
    "    val = randint(0,100)\n",
    "    arr.append(val)\n",
    "    arr_sum+=val\n",
    "print(arr_sum,arr)"
   ]
  },
  {
   "attachments": {},
   "cell_type": "markdown",
   "metadata": {},
   "source": [
    "3. Create a while loop that repeatedly takes user input and appends it to a list, but only if the input is a unique string."
   ]
  },
  {
   "cell_type": "code",
   "execution_count": null,
   "metadata": {
    "vscode": {
     "languageId": "plaintext"
    },
    "pycharm": {
     "is_executing": true
    }
   },
   "outputs": [],
   "source": [
    "used = set()\n",
    "arr = []\n",
    "while True:\n",
    "    inp = input(\"Write smth.: \")\n",
    "    if inp in used:\n",
    "        print(\"string isn't unique\")\n",
    "        break\n",
    "    used.add(inp)\n",
    "    arr.append(inp)\n",
    "print(arr)"
   ]
  },
  {
   "attachments": {},
   "cell_type": "markdown",
   "metadata": {},
   "source": [
    "4. Create a while loop that repeatedly takes user input and appends it to a list, but only if the input is a number greater than 10."
   ]
  },
  {
   "cell_type": "code",
   "execution_count": null,
   "metadata": {
    "vscode": {
     "languageId": "plaintext"
    },
    "pycharm": {
     "is_executing": true
    }
   },
   "outputs": [],
   "source": [
    "def validate_num_1(num):\n",
    "    try:\n",
    "        float_val = float(num)\n",
    "        int_val = int(float_val)\n",
    "        value = int_val if float_val == int_val else float_val\n",
    "    except ValueError:\n",
    "        print(\"Input must contain numeric value\")\n",
    "        value = input(\"Write a number (integer or float with '.' as delimiter): \")\n",
    "        return validate_num_1(value)\n",
    "    else:\n",
    "        return value\n",
    "\n",
    "arr = []\n",
    "while True:\n",
    "    inp = input(\"Write a number (integer or float with '.' as delimiter): \")\n",
    "    inp = validate_num_1(inp)\n",
    "    if inp > 10:\n",
    "        arr.append(inp)\n",
    "    else:\n",
    "        print(\"You wrote a number less or equal 10.\")\n",
    "        break\n",
    "print(arr)"
   ]
  },
  {
   "attachments": {},
   "cell_type": "markdown",
   "metadata": {},
   "source": [
    "5. Create a while loop that repeatedly takes user input and keeps track of the highest number entered until the user enters \"done\"."
   ]
  },
  {
   "cell_type": "code",
   "execution_count": null,
   "metadata": {
    "vscode": {
     "languageId": "plaintext"
    },
    "pycharm": {
     "is_executing": true
    }
   },
   "outputs": [],
   "source": [
    "def validate_num_2(num):\n",
    "    if num == \"done\":\n",
    "        return num\n",
    "    try:\n",
    "        float_val = float(num)\n",
    "        int_val = int(float_val)\n",
    "        value = int_val if float_val == int_val else float_val\n",
    "    except ValueError:\n",
    "        print(\"Input must contain numeric value\")\n",
    "        value = input(\"Write a number (integer or float with '.' as delimiter) or 'done' for exit: \")\n",
    "        return validate_num_2(value)\n",
    "    else:\n",
    "        return value\n",
    "\n",
    "max_value = float(\"-inf\")\n",
    "while True:\n",
    "    inp = input(\"Write a number (integer or float with '.' as delimiter) or 'done' for exit: \")\n",
    "    inp = validate_num_2(inp)\n",
    "    if inp == \"done\":\n",
    "        break\n",
    "    max_value = max(max_value,inp)\n",
    "if max_value == float(\"-inf\"):\n",
    "    print(\"No number were given\")\n",
    "else:\n",
    "    print(max_value)"
   ]
  }
 ],
 "metadata": {
  "language_info": {
   "name": "python"
  },
  "orig_nbformat": 4
 },
 "nbformat": 4,
 "nbformat_minor": 2
}
